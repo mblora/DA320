{
 "cells": [
  {
   "cell_type": "code",
   "execution_count": 5,
   "metadata": {},
   "outputs": [
    {
     "name": "stdout",
     "output_type": "stream",
     "text": [
      "This is a paragraph.\n"
     ]
    }
   ],
   "source": [
    "import re\n",
    "\n",
    "# Example HTML string\n",
    "html_string = \"<html><body><h1>Welcome to my website</h1><p>This is a paragraph.</p></body></html>\"\n",
    "\n",
    "# Define the regular expression pattern to match the sentence\n",
    "pattern = re.compile(r'<p>(.*?)</p>')\n",
    "\n",
    "# Use the pattern to find the sentence in the HTML string\n",
    "match = pattern.search(html_string)\n",
    "\n",
    "# Extract the sentence from the match object\n",
    "if match:\n",
    "    sentence = match.group(1)\n",
    "\n",
    "# Print the sentence\n",
    "print(sentence)\n"
   ]
  }
 ],
 "metadata": {
  "kernelspec": {
   "display_name": "Python 3",
   "language": "python",
   "name": "python3"
  },
  "language_info": {
   "codemirror_mode": {
    "name": "ipython",
    "version": 3
   },
   "file_extension": ".py",
   "mimetype": "text/x-python",
   "name": "python",
   "nbconvert_exporter": "python",
   "pygments_lexer": "ipython3",
   "version": "3.11.3"
  },
  "orig_nbformat": 4
 },
 "nbformat": 4,
 "nbformat_minor": 2
}
